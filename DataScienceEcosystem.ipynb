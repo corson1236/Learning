{
  "metadata": {
    "kernelspec": {
      "name": "python",
      "display_name": "Python (Pyodide)",
      "language": "python"
    },
    "language_info": {
      "codemirror_mode": {
        "name": "python",
        "version": 3
      },
      "file_extension": ".py",
      "mimetype": "text/x-python",
      "name": "python",
      "nbconvert_exporter": "python",
      "pygments_lexer": "ipython3",
      "version": "3.8"
    }
  },
  "nbformat_minor": 5,
  "nbformat": 4,
  "cells": [
    {
      "id": "c75843af-5681-4b22-bb89-bbb2d16fb626",
      "cell_type": "markdown",
      "source": "# Data Science Tools and Ecosystems",
      "metadata": {}
    },
    {
      "id": "41c8cd04-a1d3-4a54-bd8a-c0e158a5b55c",
      "cell_type": "markdown",
      "source": "In this notebook, Data Science Tools and Ecosystem are summarized.",
      "metadata": {}
    },
    {
      "id": "cce4c67d-2b5a-4947-adbc-ffb73969e8d9",
      "cell_type": "markdown",
      "source": "Objectives:\n- Go over popular languages used for data science\n- Go over common libraries used for data science\n- Go over popular data science tools",
      "metadata": {}
    },
    {
      "id": "5b500a79-789f-408f-94c7-baa2ea88db96",
      "cell_type": "markdown",
      "source": "Some of the popular languages that Data Scientists use are:\n1. Python\n2. R\n3. Julia",
      "metadata": {}
    },
    {
      "id": "a122577a-f7de-4911-a064-57eb5674fcc8",
      "cell_type": "markdown",
      "source": "Some of the commonly used libraries used by Data Scientists include:\n1. pandas\n2. matplotlib\n3. ggplot    ",
      "metadata": {}
    },
    {
      "id": "14b03080-ec17-48b2-a04a-8846bd913c17",
      "cell_type": "markdown",
      "source": "| Data Science Tools | \n| -------------------- |\n| Anaconda |\n| R Studio |\n| Jupityr |",
      "metadata": {}
    },
    {
      "id": "c46d0b8a-58e8-45a2-a4f7-cea3e335c521",
      "cell_type": "markdown",
      "source": "### Below are a few examples of evaluating arithmetic expressions in Python.",
      "metadata": {}
    },
    {
      "id": "0acacda9-7e21-4c04-811e-7762773f3c47",
      "cell_type": "code",
      "source": "#This a simple arithmetic expression to mutiply then add integers\n(3*4)+5",
      "metadata": {
        "trusted": true
      },
      "outputs": [
        {
          "execution_count": 2,
          "output_type": "execute_result",
          "data": {
            "text/plain": "17"
          },
          "metadata": {}
        }
      ],
      "execution_count": 2
    },
    {
      "id": "cccab72e-0a95-4c08-8e34-b0f919d9d42b",
      "cell_type": "code",
      "source": "#This will convert 200 minutes to hours by diving by 60\n200/60",
      "metadata": {
        "trusted": true
      },
      "outputs": [
        {
          "execution_count": 3,
          "output_type": "execute_result",
          "data": {
            "text/plain": "3.3333333333333335"
          },
          "metadata": {}
        }
      ],
      "execution_count": 3
    },
    {
      "id": "8f2aeef1-6fc3-46b7-962b-94a7ecdc6dc2",
      "cell_type": "markdown",
      "source": "## Author\nAlex C.",
      "metadata": {}
    },
    {
      "id": "7acb2052-197a-4fb5-98ba-51aa47ff2de9",
      "cell_type": "code",
      "source": "",
      "metadata": {
        "trusted": true
      },
      "outputs": [],
      "execution_count": null
    }
  ]
}